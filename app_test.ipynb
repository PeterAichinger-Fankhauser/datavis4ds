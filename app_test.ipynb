{
 "cells": [
  {
   "cell_type": "markdown",
   "id": "catholic-exposure",
   "metadata": {},
   "source": [
    "## Imports"
   ]
  },
  {
   "cell_type": "code",
   "execution_count": null,
   "id": "b2d248f0",
   "metadata": {},
   "outputs": [],
   "source": [
    "import pandas as pd\n",
    "import numpy as np\n",
    "import plotly.express as px\n",
    "# import plotly.graph_objects as go\n",
    "from dash import Dash, dcc, html, Input, Output"
   ]
  },
  {
   "cell_type": "code",
   "execution_count": null,
   "id": "scientific-charm",
   "metadata": {},
   "outputs": [
    {
     "data": {
      "text/html": [
       "<div>\n",
       "<style scoped>\n",
       "    .dataframe tbody tr th:only-of-type {\n",
       "        vertical-align: middle;\n",
       "    }\n",
       "\n",
       "    .dataframe tbody tr th {\n",
       "        vertical-align: top;\n",
       "    }\n",
       "\n",
       "    .dataframe thead th {\n",
       "        text-align: right;\n",
       "    }\n",
       "</style>\n",
       "<table border=\"1\" class=\"dataframe\">\n",
       "  <thead>\n",
       "    <tr style=\"text-align: right;\">\n",
       "      <th></th>\n",
       "      <th>besuchtesSemester</th>\n",
       "      <th>STUDBEZ_kompakt</th>\n",
       "      <th>mean</th>\n",
       "      <th>median</th>\n",
       "    </tr>\n",
       "  </thead>\n",
       "  <tbody>\n",
       "    <tr>\n",
       "      <th>0</th>\n",
       "      <td>1.0</td>\n",
       "      <td>BA; BI</td>\n",
       "      <td>8.198052</td>\n",
       "      <td>8.0</td>\n",
       "    </tr>\n",
       "    <tr>\n",
       "      <th>1</th>\n",
       "      <td>1.0</td>\n",
       "      <td>BA; PPP</td>\n",
       "      <td>14.431443</td>\n",
       "      <td>14.5</td>\n",
       "    </tr>\n",
       "    <tr>\n",
       "      <th>2</th>\n",
       "      <td>1.0</td>\n",
       "      <td>MA; BI</td>\n",
       "      <td>4.500000</td>\n",
       "      <td>3.5</td>\n",
       "    </tr>\n",
       "    <tr>\n",
       "      <th>3</th>\n",
       "      <td>1.0</td>\n",
       "      <td>MA; PPP</td>\n",
       "      <td>13.135281</td>\n",
       "      <td>12.0</td>\n",
       "    </tr>\n",
       "    <tr>\n",
       "      <th>4</th>\n",
       "      <td>2.0</td>\n",
       "      <td>BA; BI</td>\n",
       "      <td>10.350482</td>\n",
       "      <td>10.0</td>\n",
       "    </tr>\n",
       "  </tbody>\n",
       "</table>\n",
       "</div>"
      ],
      "text/plain": [
       "   besuchtesSemester STUDBEZ_kompakt       mean  median\n",
       "0                1.0          BA; BI   8.198052     8.0\n",
       "1                1.0         BA; PPP  14.431443    14.5\n",
       "2                1.0          MA; BI   4.500000     3.5\n",
       "3                1.0         MA; PPP  13.135281    12.0\n",
       "4                2.0          BA; BI  10.350482    10.0"
      ]
     },
     "execution_count": 6,
     "metadata": {},
     "output_type": "execute_result"
    }
   ],
   "source": [
    "max_semesters_to_display = 8\n",
    "df_raw = pd.read_csv(\"student_dummy_data.csv\", delimiter=\";\", encoding=\"latin-1\", decimal=\",\")\n",
    "df_reduced = df_raw.loc[df_raw[\"besuchtesSemester\"] <= max_semesters_to_display]\n",
    "df_by_semester_and_study_grps = df_reduced.groupby([\"besuchtesSemester\", \"STUDBEZ_kompakt\"])\n",
    "df_by_semester_and_study_agg = df_by_semester_and_study_grps[\"ECTS_Sem\"].agg([\"mean\", \"median\"])\n",
    "df_by_semester_and_study_agg = pd.DataFrame(df_by_semester_and_study_agg).reset_index()\n",
    "df_by_semester_and_study_agg.head()"
   ]
  },
  {
   "cell_type": "code",
   "execution_count": null,
   "id": "acoustic-smoke",
   "metadata": {},
   "outputs": [
    {
     "data": {
      "application/vnd.plotly.v1+json": {
       "config": {
        "plotlyServerURL": "https://plot.ly"
       },
       "data": [
        {
         "hovertemplate": "STUDBEZ_kompakt=BA; BI<br>besuchtesSemester=%{x}<br>mean=%{y}<extra></extra>",
         "legendgroup": "BA; BI",
         "line": {
          "color": "#636efa",
          "dash": "solid"
         },
         "marker": {
          "symbol": "circle"
         },
         "mode": "lines",
         "name": "BA; BI",
         "orientation": "v",
         "showlegend": true,
         "type": "scatter",
         "x": [
          1,
          2,
          3,
          4,
          5,
          6,
          7,
          8
         ],
         "xaxis": "x",
         "y": [
          8.198051948051948,
          10.35048231511254,
          10.301136363636363,
          11.21923076923077,
          10.275,
          10.83128078817734,
          9.850609756097562,
          9.885220125786164
         ],
         "yaxis": "y"
        },
        {
         "hovertemplate": "STUDBEZ_kompakt=BA; PPP<br>besuchtesSemester=%{x}<br>mean=%{y}<extra></extra>",
         "legendgroup": "BA; PPP",
         "line": {
          "color": "#EF553B",
          "dash": "solid"
         },
         "marker": {
          "symbol": "circle"
         },
         "mode": "lines",
         "name": "BA; PPP",
         "orientation": "v",
         "showlegend": true,
         "type": "scatter",
         "x": [
          1,
          2,
          3,
          4,
          5,
          6,
          7,
          8
         ],
         "xaxis": "x",
         "y": [
          14.431443298969072,
          16.717070600632244,
          19.11764705882353,
          19.458256880733945,
          18.350644783118405,
          18.277911164465785,
          17.63537675606641,
          17.349143610013176
         ],
         "yaxis": "y"
        },
        {
         "hovertemplate": "STUDBEZ_kompakt=MA; BI<br>besuchtesSemester=%{x}<br>mean=%{y}<extra></extra>",
         "legendgroup": "MA; BI",
         "line": {
          "color": "#00cc96",
          "dash": "solid"
         },
         "marker": {
          "symbol": "circle"
         },
         "mode": "lines",
         "name": "MA; BI",
         "orientation": "v",
         "showlegend": true,
         "type": "scatter",
         "x": [
          1,
          2,
          3,
          4,
          5,
          6,
          7,
          8
         ],
         "xaxis": "x",
         "y": [
          4.5,
          6.388888888888889,
          5.4375,
          7.916666666666667,
          13.5,
          0,
          0,
          0
         ],
         "yaxis": "y"
        },
        {
         "hovertemplate": "STUDBEZ_kompakt=MA; PPP<br>besuchtesSemester=%{x}<br>mean=%{y}<extra></extra>",
         "legendgroup": "MA; PPP",
         "line": {
          "color": "#ab63fa",
          "dash": "solid"
         },
         "marker": {
          "symbol": "circle"
         },
         "mode": "lines",
         "name": "MA; PPP",
         "orientation": "v",
         "showlegend": true,
         "type": "scatter",
         "x": [
          1,
          2,
          3,
          4,
          5,
          6,
          7,
          8
         ],
         "xaxis": "x",
         "y": [
          13.135281385281385,
          15.191143497757848,
          15.808045977011494,
          16.912209302325582,
          13.51953125,
          16.07409972299169,
          10.988839285714286,
          8.369318181818182
         ],
         "yaxis": "y"
        }
       ],
       "layout": {
        "legend": {
         "title": {
          "text": "STUDBEZ_kompakt"
         },
         "tracegroupgap": 0
        },
        "template": {
         "data": {
          "bar": [
           {
            "error_x": {
             "color": "#2a3f5f"
            },
            "error_y": {
             "color": "#2a3f5f"
            },
            "marker": {
             "line": {
              "color": "#E5ECF6",
              "width": 0.5
             },
             "pattern": {
              "fillmode": "overlay",
              "size": 10,
              "solidity": 0.2
             }
            },
            "type": "bar"
           }
          ],
          "barpolar": [
           {
            "marker": {
             "line": {
              "color": "#E5ECF6",
              "width": 0.5
             },
             "pattern": {
              "fillmode": "overlay",
              "size": 10,
              "solidity": 0.2
             }
            },
            "type": "barpolar"
           }
          ],
          "carpet": [
           {
            "aaxis": {
             "endlinecolor": "#2a3f5f",
             "gridcolor": "white",
             "linecolor": "white",
             "minorgridcolor": "white",
             "startlinecolor": "#2a3f5f"
            },
            "baxis": {
             "endlinecolor": "#2a3f5f",
             "gridcolor": "white",
             "linecolor": "white",
             "minorgridcolor": "white",
             "startlinecolor": "#2a3f5f"
            },
            "type": "carpet"
           }
          ],
          "choropleth": [
           {
            "colorbar": {
             "outlinewidth": 0,
             "ticks": ""
            },
            "type": "choropleth"
           }
          ],
          "contour": [
           {
            "colorbar": {
             "outlinewidth": 0,
             "ticks": ""
            },
            "colorscale": [
             [
              0,
              "#0d0887"
             ],
             [
              0.1111111111111111,
              "#46039f"
             ],
             [
              0.2222222222222222,
              "#7201a8"
             ],
             [
              0.3333333333333333,
              "#9c179e"
             ],
             [
              0.4444444444444444,
              "#bd3786"
             ],
             [
              0.5555555555555556,
              "#d8576b"
             ],
             [
              0.6666666666666666,
              "#ed7953"
             ],
             [
              0.7777777777777778,
              "#fb9f3a"
             ],
             [
              0.8888888888888888,
              "#fdca26"
             ],
             [
              1,
              "#f0f921"
             ]
            ],
            "type": "contour"
           }
          ],
          "contourcarpet": [
           {
            "colorbar": {
             "outlinewidth": 0,
             "ticks": ""
            },
            "type": "contourcarpet"
           }
          ],
          "heatmap": [
           {
            "colorbar": {
             "outlinewidth": 0,
             "ticks": ""
            },
            "colorscale": [
             [
              0,
              "#0d0887"
             ],
             [
              0.1111111111111111,
              "#46039f"
             ],
             [
              0.2222222222222222,
              "#7201a8"
             ],
             [
              0.3333333333333333,
              "#9c179e"
             ],
             [
              0.4444444444444444,
              "#bd3786"
             ],
             [
              0.5555555555555556,
              "#d8576b"
             ],
             [
              0.6666666666666666,
              "#ed7953"
             ],
             [
              0.7777777777777778,
              "#fb9f3a"
             ],
             [
              0.8888888888888888,
              "#fdca26"
             ],
             [
              1,
              "#f0f921"
             ]
            ],
            "type": "heatmap"
           }
          ],
          "heatmapgl": [
           {
            "colorbar": {
             "outlinewidth": 0,
             "ticks": ""
            },
            "colorscale": [
             [
              0,
              "#0d0887"
             ],
             [
              0.1111111111111111,
              "#46039f"
             ],
             [
              0.2222222222222222,
              "#7201a8"
             ],
             [
              0.3333333333333333,
              "#9c179e"
             ],
             [
              0.4444444444444444,
              "#bd3786"
             ],
             [
              0.5555555555555556,
              "#d8576b"
             ],
             [
              0.6666666666666666,
              "#ed7953"
             ],
             [
              0.7777777777777778,
              "#fb9f3a"
             ],
             [
              0.8888888888888888,
              "#fdca26"
             ],
             [
              1,
              "#f0f921"
             ]
            ],
            "type": "heatmapgl"
           }
          ],
          "histogram": [
           {
            "marker": {
             "pattern": {
              "fillmode": "overlay",
              "size": 10,
              "solidity": 0.2
             }
            },
            "type": "histogram"
           }
          ],
          "histogram2d": [
           {
            "colorbar": {
             "outlinewidth": 0,
             "ticks": ""
            },
            "colorscale": [
             [
              0,
              "#0d0887"
             ],
             [
              0.1111111111111111,
              "#46039f"
             ],
             [
              0.2222222222222222,
              "#7201a8"
             ],
             [
              0.3333333333333333,
              "#9c179e"
             ],
             [
              0.4444444444444444,
              "#bd3786"
             ],
             [
              0.5555555555555556,
              "#d8576b"
             ],
             [
              0.6666666666666666,
              "#ed7953"
             ],
             [
              0.7777777777777778,
              "#fb9f3a"
             ],
             [
              0.8888888888888888,
              "#fdca26"
             ],
             [
              1,
              "#f0f921"
             ]
            ],
            "type": "histogram2d"
           }
          ],
          "histogram2dcontour": [
           {
            "colorbar": {
             "outlinewidth": 0,
             "ticks": ""
            },
            "colorscale": [
             [
              0,
              "#0d0887"
             ],
             [
              0.1111111111111111,
              "#46039f"
             ],
             [
              0.2222222222222222,
              "#7201a8"
             ],
             [
              0.3333333333333333,
              "#9c179e"
             ],
             [
              0.4444444444444444,
              "#bd3786"
             ],
             [
              0.5555555555555556,
              "#d8576b"
             ],
             [
              0.6666666666666666,
              "#ed7953"
             ],
             [
              0.7777777777777778,
              "#fb9f3a"
             ],
             [
              0.8888888888888888,
              "#fdca26"
             ],
             [
              1,
              "#f0f921"
             ]
            ],
            "type": "histogram2dcontour"
           }
          ],
          "mesh3d": [
           {
            "colorbar": {
             "outlinewidth": 0,
             "ticks": ""
            },
            "type": "mesh3d"
           }
          ],
          "parcoords": [
           {
            "line": {
             "colorbar": {
              "outlinewidth": 0,
              "ticks": ""
             }
            },
            "type": "parcoords"
           }
          ],
          "pie": [
           {
            "automargin": true,
            "type": "pie"
           }
          ],
          "scatter": [
           {
            "marker": {
             "colorbar": {
              "outlinewidth": 0,
              "ticks": ""
             }
            },
            "type": "scatter"
           }
          ],
          "scatter3d": [
           {
            "line": {
             "colorbar": {
              "outlinewidth": 0,
              "ticks": ""
             }
            },
            "marker": {
             "colorbar": {
              "outlinewidth": 0,
              "ticks": ""
             }
            },
            "type": "scatter3d"
           }
          ],
          "scattercarpet": [
           {
            "marker": {
             "colorbar": {
              "outlinewidth": 0,
              "ticks": ""
             }
            },
            "type": "scattercarpet"
           }
          ],
          "scattergeo": [
           {
            "marker": {
             "colorbar": {
              "outlinewidth": 0,
              "ticks": ""
             }
            },
            "type": "scattergeo"
           }
          ],
          "scattergl": [
           {
            "marker": {
             "colorbar": {
              "outlinewidth": 0,
              "ticks": ""
             }
            },
            "type": "scattergl"
           }
          ],
          "scattermapbox": [
           {
            "marker": {
             "colorbar": {
              "outlinewidth": 0,
              "ticks": ""
             }
            },
            "type": "scattermapbox"
           }
          ],
          "scatterpolar": [
           {
            "marker": {
             "colorbar": {
              "outlinewidth": 0,
              "ticks": ""
             }
            },
            "type": "scatterpolar"
           }
          ],
          "scatterpolargl": [
           {
            "marker": {
             "colorbar": {
              "outlinewidth": 0,
              "ticks": ""
             }
            },
            "type": "scatterpolargl"
           }
          ],
          "scatterternary": [
           {
            "marker": {
             "colorbar": {
              "outlinewidth": 0,
              "ticks": ""
             }
            },
            "type": "scatterternary"
           }
          ],
          "surface": [
           {
            "colorbar": {
             "outlinewidth": 0,
             "ticks": ""
            },
            "colorscale": [
             [
              0,
              "#0d0887"
             ],
             [
              0.1111111111111111,
              "#46039f"
             ],
             [
              0.2222222222222222,
              "#7201a8"
             ],
             [
              0.3333333333333333,
              "#9c179e"
             ],
             [
              0.4444444444444444,
              "#bd3786"
             ],
             [
              0.5555555555555556,
              "#d8576b"
             ],
             [
              0.6666666666666666,
              "#ed7953"
             ],
             [
              0.7777777777777778,
              "#fb9f3a"
             ],
             [
              0.8888888888888888,
              "#fdca26"
             ],
             [
              1,
              "#f0f921"
             ]
            ],
            "type": "surface"
           }
          ],
          "table": [
           {
            "cells": {
             "fill": {
              "color": "#EBF0F8"
             },
             "line": {
              "color": "white"
             }
            },
            "header": {
             "fill": {
              "color": "#C8D4E3"
             },
             "line": {
              "color": "white"
             }
            },
            "type": "table"
           }
          ]
         },
         "layout": {
          "annotationdefaults": {
           "arrowcolor": "#2a3f5f",
           "arrowhead": 0,
           "arrowwidth": 1
          },
          "autotypenumbers": "strict",
          "coloraxis": {
           "colorbar": {
            "outlinewidth": 0,
            "ticks": ""
           }
          },
          "colorscale": {
           "diverging": [
            [
             0,
             "#8e0152"
            ],
            [
             0.1,
             "#c51b7d"
            ],
            [
             0.2,
             "#de77ae"
            ],
            [
             0.3,
             "#f1b6da"
            ],
            [
             0.4,
             "#fde0ef"
            ],
            [
             0.5,
             "#f7f7f7"
            ],
            [
             0.6,
             "#e6f5d0"
            ],
            [
             0.7,
             "#b8e186"
            ],
            [
             0.8,
             "#7fbc41"
            ],
            [
             0.9,
             "#4d9221"
            ],
            [
             1,
             "#276419"
            ]
           ],
           "sequential": [
            [
             0,
             "#0d0887"
            ],
            [
             0.1111111111111111,
             "#46039f"
            ],
            [
             0.2222222222222222,
             "#7201a8"
            ],
            [
             0.3333333333333333,
             "#9c179e"
            ],
            [
             0.4444444444444444,
             "#bd3786"
            ],
            [
             0.5555555555555556,
             "#d8576b"
            ],
            [
             0.6666666666666666,
             "#ed7953"
            ],
            [
             0.7777777777777778,
             "#fb9f3a"
            ],
            [
             0.8888888888888888,
             "#fdca26"
            ],
            [
             1,
             "#f0f921"
            ]
           ],
           "sequentialminus": [
            [
             0,
             "#0d0887"
            ],
            [
             0.1111111111111111,
             "#46039f"
            ],
            [
             0.2222222222222222,
             "#7201a8"
            ],
            [
             0.3333333333333333,
             "#9c179e"
            ],
            [
             0.4444444444444444,
             "#bd3786"
            ],
            [
             0.5555555555555556,
             "#d8576b"
            ],
            [
             0.6666666666666666,
             "#ed7953"
            ],
            [
             0.7777777777777778,
             "#fb9f3a"
            ],
            [
             0.8888888888888888,
             "#fdca26"
            ],
            [
             1,
             "#f0f921"
            ]
           ]
          },
          "colorway": [
           "#636efa",
           "#EF553B",
           "#00cc96",
           "#ab63fa",
           "#FFA15A",
           "#19d3f3",
           "#FF6692",
           "#B6E880",
           "#FF97FF",
           "#FECB52"
          ],
          "font": {
           "color": "#2a3f5f"
          },
          "geo": {
           "bgcolor": "white",
           "lakecolor": "white",
           "landcolor": "#E5ECF6",
           "showlakes": true,
           "showland": true,
           "subunitcolor": "white"
          },
          "hoverlabel": {
           "align": "left"
          },
          "hovermode": "closest",
          "mapbox": {
           "style": "light"
          },
          "paper_bgcolor": "white",
          "plot_bgcolor": "#E5ECF6",
          "polar": {
           "angularaxis": {
            "gridcolor": "white",
            "linecolor": "white",
            "ticks": ""
           },
           "bgcolor": "#E5ECF6",
           "radialaxis": {
            "gridcolor": "white",
            "linecolor": "white",
            "ticks": ""
           }
          },
          "scene": {
           "xaxis": {
            "backgroundcolor": "#E5ECF6",
            "gridcolor": "white",
            "gridwidth": 2,
            "linecolor": "white",
            "showbackground": true,
            "ticks": "",
            "zerolinecolor": "white"
           },
           "yaxis": {
            "backgroundcolor": "#E5ECF6",
            "gridcolor": "white",
            "gridwidth": 2,
            "linecolor": "white",
            "showbackground": true,
            "ticks": "",
            "zerolinecolor": "white"
           },
           "zaxis": {
            "backgroundcolor": "#E5ECF6",
            "gridcolor": "white",
            "gridwidth": 2,
            "linecolor": "white",
            "showbackground": true,
            "ticks": "",
            "zerolinecolor": "white"
           }
          },
          "shapedefaults": {
           "line": {
            "color": "#2a3f5f"
           }
          },
          "ternary": {
           "aaxis": {
            "gridcolor": "white",
            "linecolor": "white",
            "ticks": ""
           },
           "baxis": {
            "gridcolor": "white",
            "linecolor": "white",
            "ticks": ""
           },
           "bgcolor": "#E5ECF6",
           "caxis": {
            "gridcolor": "white",
            "linecolor": "white",
            "ticks": ""
           }
          },
          "title": {
           "x": 0.05
          },
          "xaxis": {
           "automargin": true,
           "gridcolor": "white",
           "linecolor": "white",
           "ticks": "",
           "title": {
            "standoff": 15
           },
           "zerolinecolor": "white",
           "zerolinewidth": 2
          },
          "yaxis": {
           "automargin": true,
           "gridcolor": "white",
           "linecolor": "white",
           "ticks": "",
           "title": {
            "standoff": 15
           },
           "zerolinecolor": "white",
           "zerolinewidth": 2
          }
         }
        },
        "title": {
         "text": "<b>Durchschnittliche ECTS-Punkte nach besuchtem Semester im Studienverlauf</b>"
        },
        "xaxis": {
         "anchor": "y",
         "domain": [
          0,
          1
         ],
         "dtick": 1,
         "title": {
          "text": "besuchtesSemester"
         }
        },
        "yaxis": {
         "anchor": "x",
         "domain": [
          0,
          1
         ],
         "title": {
          "text": "mean"
         }
        }
       }
      }
     },
     "metadata": {},
     "output_type": "display_data"
    }
   ],
   "source": [
    "fig = px.line(df_by_semester_and_study_agg, \n",
    "                x=\"besuchtesSemester\", \n",
    "                y=\"mean\", \n",
    "                color=\"STUDBEZ_kompakt\", \n",
    "                title=\"<b>Durchschnittliche ECTS-Punkte nach besuchtem Semester im Studienverlauf</b>\")\n",
    "fig.update_xaxes(dtick=1)"
   ]
  },
  {
   "cell_type": "markdown",
   "metadata": {},
   "source": [
    "# TEST"
   ]
  },
  {
   "cell_type": "code",
   "execution_count": null,
   "metadata": {},
   "outputs": [],
   "source": [
    "# IMPORTS\n",
    "import dash\n",
    "from dash import dcc, html, Dash\n",
    "from dash.dependencies import Input, Output\n",
    "import plotly.express as px"
   ]
  },
  {
   "cell_type": "code",
   "execution_count": null,
   "metadata": {},
   "outputs": [
    {
     "data": {
      "text/html": [
       "<div>\n",
       "<style scoped>\n",
       "    .dataframe tbody tr th:only-of-type {\n",
       "        vertical-align: middle;\n",
       "    }\n",
       "\n",
       "    .dataframe tbody tr th {\n",
       "        vertical-align: top;\n",
       "    }\n",
       "\n",
       "    .dataframe thead th {\n",
       "        text-align: right;\n",
       "    }\n",
       "</style>\n",
       "<table border=\"1\" class=\"dataframe\">\n",
       "  <thead>\n",
       "    <tr style=\"text-align: right;\">\n",
       "      <th></th>\n",
       "      <th>besuchtesSemester</th>\n",
       "      <th>STUDBEZ_kompakt</th>\n",
       "      <th>mean</th>\n",
       "      <th>median</th>\n",
       "    </tr>\n",
       "  </thead>\n",
       "  <tbody>\n",
       "    <tr>\n",
       "      <th>0</th>\n",
       "      <td>1.0</td>\n",
       "      <td>BA; BI</td>\n",
       "      <td>8.198052</td>\n",
       "      <td>8.000</td>\n",
       "    </tr>\n",
       "    <tr>\n",
       "      <th>1</th>\n",
       "      <td>1.0</td>\n",
       "      <td>BA; PPP</td>\n",
       "      <td>14.431443</td>\n",
       "      <td>14.500</td>\n",
       "    </tr>\n",
       "    <tr>\n",
       "      <th>2</th>\n",
       "      <td>1.0</td>\n",
       "      <td>MA; BI</td>\n",
       "      <td>4.500000</td>\n",
       "      <td>3.500</td>\n",
       "    </tr>\n",
       "    <tr>\n",
       "      <th>3</th>\n",
       "      <td>1.0</td>\n",
       "      <td>MA; PPP</td>\n",
       "      <td>13.135281</td>\n",
       "      <td>12.000</td>\n",
       "    </tr>\n",
       "    <tr>\n",
       "      <th>4</th>\n",
       "      <td>2.0</td>\n",
       "      <td>BA; BI</td>\n",
       "      <td>10.350482</td>\n",
       "      <td>10.000</td>\n",
       "    </tr>\n",
       "    <tr>\n",
       "      <th>5</th>\n",
       "      <td>2.0</td>\n",
       "      <td>BA; PPP</td>\n",
       "      <td>16.717071</td>\n",
       "      <td>17.000</td>\n",
       "    </tr>\n",
       "    <tr>\n",
       "      <th>6</th>\n",
       "      <td>2.0</td>\n",
       "      <td>MA; BI</td>\n",
       "      <td>6.388889</td>\n",
       "      <td>5.000</td>\n",
       "    </tr>\n",
       "    <tr>\n",
       "      <th>7</th>\n",
       "      <td>2.0</td>\n",
       "      <td>MA; PPP</td>\n",
       "      <td>15.191143</td>\n",
       "      <td>15.000</td>\n",
       "    </tr>\n",
       "    <tr>\n",
       "      <th>8</th>\n",
       "      <td>3.0</td>\n",
       "      <td>BA; BI</td>\n",
       "      <td>10.301136</td>\n",
       "      <td>10.500</td>\n",
       "    </tr>\n",
       "    <tr>\n",
       "      <th>9</th>\n",
       "      <td>3.0</td>\n",
       "      <td>BA; PPP</td>\n",
       "      <td>19.117647</td>\n",
       "      <td>19.500</td>\n",
       "    </tr>\n",
       "    <tr>\n",
       "      <th>10</th>\n",
       "      <td>3.0</td>\n",
       "      <td>MA; BI</td>\n",
       "      <td>5.437500</td>\n",
       "      <td>3.750</td>\n",
       "    </tr>\n",
       "    <tr>\n",
       "      <th>11</th>\n",
       "      <td>3.0</td>\n",
       "      <td>MA; PPP</td>\n",
       "      <td>15.808046</td>\n",
       "      <td>16.000</td>\n",
       "    </tr>\n",
       "    <tr>\n",
       "      <th>12</th>\n",
       "      <td>4.0</td>\n",
       "      <td>BA; BI</td>\n",
       "      <td>11.219231</td>\n",
       "      <td>11.000</td>\n",
       "    </tr>\n",
       "    <tr>\n",
       "      <th>13</th>\n",
       "      <td>4.0</td>\n",
       "      <td>BA; PPP</td>\n",
       "      <td>19.458257</td>\n",
       "      <td>20.000</td>\n",
       "    </tr>\n",
       "    <tr>\n",
       "      <th>14</th>\n",
       "      <td>4.0</td>\n",
       "      <td>MA; BI</td>\n",
       "      <td>7.916667</td>\n",
       "      <td>4.000</td>\n",
       "    </tr>\n",
       "    <tr>\n",
       "      <th>15</th>\n",
       "      <td>4.0</td>\n",
       "      <td>MA; PPP</td>\n",
       "      <td>16.912209</td>\n",
       "      <td>15.000</td>\n",
       "    </tr>\n",
       "    <tr>\n",
       "      <th>16</th>\n",
       "      <td>5.0</td>\n",
       "      <td>BA; BI</td>\n",
       "      <td>10.275000</td>\n",
       "      <td>10.000</td>\n",
       "    </tr>\n",
       "    <tr>\n",
       "      <th>17</th>\n",
       "      <td>5.0</td>\n",
       "      <td>BA; PPP</td>\n",
       "      <td>18.350645</td>\n",
       "      <td>19.000</td>\n",
       "    </tr>\n",
       "    <tr>\n",
       "      <th>18</th>\n",
       "      <td>5.0</td>\n",
       "      <td>MA; BI</td>\n",
       "      <td>13.500000</td>\n",
       "      <td>15.000</td>\n",
       "    </tr>\n",
       "    <tr>\n",
       "      <th>19</th>\n",
       "      <td>5.0</td>\n",
       "      <td>MA; PPP</td>\n",
       "      <td>13.519531</td>\n",
       "      <td>12.000</td>\n",
       "    </tr>\n",
       "    <tr>\n",
       "      <th>20</th>\n",
       "      <td>6.0</td>\n",
       "      <td>BA; BI</td>\n",
       "      <td>10.831281</td>\n",
       "      <td>11.000</td>\n",
       "    </tr>\n",
       "    <tr>\n",
       "      <th>21</th>\n",
       "      <td>6.0</td>\n",
       "      <td>BA; PPP</td>\n",
       "      <td>18.277911</td>\n",
       "      <td>19.000</td>\n",
       "    </tr>\n",
       "    <tr>\n",
       "      <th>22</th>\n",
       "      <td>6.0</td>\n",
       "      <td>MA; BI</td>\n",
       "      <td>0.000000</td>\n",
       "      <td>0.000</td>\n",
       "    </tr>\n",
       "    <tr>\n",
       "      <th>23</th>\n",
       "      <td>6.0</td>\n",
       "      <td>MA; PPP</td>\n",
       "      <td>16.074100</td>\n",
       "      <td>11.000</td>\n",
       "    </tr>\n",
       "    <tr>\n",
       "      <th>24</th>\n",
       "      <td>7.0</td>\n",
       "      <td>BA; BI</td>\n",
       "      <td>9.850610</td>\n",
       "      <td>9.500</td>\n",
       "    </tr>\n",
       "    <tr>\n",
       "      <th>25</th>\n",
       "      <td>7.0</td>\n",
       "      <td>BA; PPP</td>\n",
       "      <td>17.635377</td>\n",
       "      <td>18.500</td>\n",
       "    </tr>\n",
       "    <tr>\n",
       "      <th>26</th>\n",
       "      <td>7.0</td>\n",
       "      <td>MA; BI</td>\n",
       "      <td>0.000000</td>\n",
       "      <td>0.000</td>\n",
       "    </tr>\n",
       "    <tr>\n",
       "      <th>27</th>\n",
       "      <td>7.0</td>\n",
       "      <td>MA; PPP</td>\n",
       "      <td>10.988839</td>\n",
       "      <td>4.875</td>\n",
       "    </tr>\n",
       "    <tr>\n",
       "      <th>28</th>\n",
       "      <td>8.0</td>\n",
       "      <td>BA; BI</td>\n",
       "      <td>9.885220</td>\n",
       "      <td>9.500</td>\n",
       "    </tr>\n",
       "    <tr>\n",
       "      <th>29</th>\n",
       "      <td>8.0</td>\n",
       "      <td>BA; PPP</td>\n",
       "      <td>17.349144</td>\n",
       "      <td>18.000</td>\n",
       "    </tr>\n",
       "    <tr>\n",
       "      <th>30</th>\n",
       "      <td>8.0</td>\n",
       "      <td>MA; BI</td>\n",
       "      <td>0.000000</td>\n",
       "      <td>0.000</td>\n",
       "    </tr>\n",
       "    <tr>\n",
       "      <th>31</th>\n",
       "      <td>8.0</td>\n",
       "      <td>MA; PPP</td>\n",
       "      <td>8.369318</td>\n",
       "      <td>1.000</td>\n",
       "    </tr>\n",
       "  </tbody>\n",
       "</table>\n",
       "</div>"
      ],
      "text/plain": [
       "    besuchtesSemester STUDBEZ_kompakt       mean  median\n",
       "0                 1.0          BA; BI   8.198052   8.000\n",
       "1                 1.0         BA; PPP  14.431443  14.500\n",
       "2                 1.0          MA; BI   4.500000   3.500\n",
       "3                 1.0         MA; PPP  13.135281  12.000\n",
       "4                 2.0          BA; BI  10.350482  10.000\n",
       "5                 2.0         BA; PPP  16.717071  17.000\n",
       "6                 2.0          MA; BI   6.388889   5.000\n",
       "7                 2.0         MA; PPP  15.191143  15.000\n",
       "8                 3.0          BA; BI  10.301136  10.500\n",
       "9                 3.0         BA; PPP  19.117647  19.500\n",
       "10                3.0          MA; BI   5.437500   3.750\n",
       "11                3.0         MA; PPP  15.808046  16.000\n",
       "12                4.0          BA; BI  11.219231  11.000\n",
       "13                4.0         BA; PPP  19.458257  20.000\n",
       "14                4.0          MA; BI   7.916667   4.000\n",
       "15                4.0         MA; PPP  16.912209  15.000\n",
       "16                5.0          BA; BI  10.275000  10.000\n",
       "17                5.0         BA; PPP  18.350645  19.000\n",
       "18                5.0          MA; BI  13.500000  15.000\n",
       "19                5.0         MA; PPP  13.519531  12.000\n",
       "20                6.0          BA; BI  10.831281  11.000\n",
       "21                6.0         BA; PPP  18.277911  19.000\n",
       "22                6.0          MA; BI   0.000000   0.000\n",
       "23                6.0         MA; PPP  16.074100  11.000\n",
       "24                7.0          BA; BI   9.850610   9.500\n",
       "25                7.0         BA; PPP  17.635377  18.500\n",
       "26                7.0          MA; BI   0.000000   0.000\n",
       "27                7.0         MA; PPP  10.988839   4.875\n",
       "28                8.0          BA; BI   9.885220   9.500\n",
       "29                8.0         BA; PPP  17.349144  18.000\n",
       "30                8.0          MA; BI   0.000000   0.000\n",
       "31                8.0         MA; PPP   8.369318   1.000"
      ]
     },
     "execution_count": 22,
     "metadata": {},
     "output_type": "execute_result"
    }
   ],
   "source": [
    "app = Dash(__name__)\n",
    "\n",
    "df = df_by_semester_and_study_agg.copy()\n",
    "\n",
    "available_indicators = df[\"STUDBEZ_kompakt\"].unique()"
   ]
  },
  {
   "cell_type": "code",
   "execution_count": null,
   "metadata": {},
   "outputs": [],
   "source": [
    "\n",
    "# App layout\n",
    "app.layout = html.Div([\n",
    "    html.Div([\n",
    "\n",
    "        html.H1(\"Web Application Dashboards with Dash\", style={'text-align': 'center'}),\n",
    "        \n",
    "        dcc.Dropdown(id=\"slct_study\", # was xaxis-column\n",
    "                    options=[\n",
    "                        {\"label\": i, \"value\": i} for i in available_indicators],\n",
    "                    multi=False,\n",
    "                    value=available_indicators[0],\n",
    "                    style={'width': '40%'}\n",
    "        ),\n",
    "        dcc.RadioItems(\n",
    "                    id='measure', # was xaxis-type\n",
    "                    options=[{'label': i, 'value': i} for i in ['mean', 'median']],\n",
    "                    value='median',\n",
    "                    labelStyle={'display': 'inline-block'}\n",
    "        )\n",
    "    ], style={'width': '40%'}),\n",
    "\n",
    "    html.Div([\n",
    "\n",
    "        dcc.Graph(id=\"mygraph1\", figure={}), # was bof\n",
    "\n",
    "        dcc.Slider(\n",
    "                id='max_semester_slider', # was year--slider\n",
    "                min=df['besuchtesSemester'].min(),\n",
    "                max=df['besuchtesSemester'].max(),\n",
    "                value=df['besuchtesSemester'].max(),\n",
    "                marks={str(besuchtesSemester): str(besuchtesSemester) for besuchtesSemester in df['besuchtesSemester'].unique()},\n",
    "                step=None\n",
    "        )\n",
    "    ])\n",
    "])\n",
    "\n"
   ]
  },
  {
   "cell_type": "code",
   "execution_count": null,
   "metadata": {},
   "outputs": [
    {
     "data": {
      "application/vnd.plotly.v1+json": {
       "config": {
        "plotlyServerURL": "https://plot.ly"
       },
       "data": [
        {
         "hovertemplate": "besuchtes Semester=%{x}<br>ECTS-Punkte=%{y}<extra></extra>",
         "legendgroup": "",
         "line": {
          "color": "#636efa",
          "dash": "solid"
         },
         "marker": {
          "symbol": "circle"
         },
         "mode": "lines+markers",
         "name": "",
         "orientation": "v",
         "showlegend": false,
         "type": "scatter",
         "x": [
          1,
          2,
          3,
          4,
          5,
          6
         ],
         "xaxis": "x",
         "y": [
          14.431443298969072,
          16.717070600632244,
          19.11764705882353,
          19.458256880733945,
          18.350644783118405,
          18.277911164465785
         ],
         "yaxis": "y"
        }
       ],
       "layout": {
        "legend": {
         "tracegroupgap": 0
        },
        "showlegend": false,
        "template": {
         "data": {
          "bar": [
           {
            "error_x": {
             "color": "#2a3f5f"
            },
            "error_y": {
             "color": "#2a3f5f"
            },
            "marker": {
             "line": {
              "color": "#E5ECF6",
              "width": 0.5
             },
             "pattern": {
              "fillmode": "overlay",
              "size": 10,
              "solidity": 0.2
             }
            },
            "type": "bar"
           }
          ],
          "barpolar": [
           {
            "marker": {
             "line": {
              "color": "#E5ECF6",
              "width": 0.5
             },
             "pattern": {
              "fillmode": "overlay",
              "size": 10,
              "solidity": 0.2
             }
            },
            "type": "barpolar"
           }
          ],
          "carpet": [
           {
            "aaxis": {
             "endlinecolor": "#2a3f5f",
             "gridcolor": "white",
             "linecolor": "white",
             "minorgridcolor": "white",
             "startlinecolor": "#2a3f5f"
            },
            "baxis": {
             "endlinecolor": "#2a3f5f",
             "gridcolor": "white",
             "linecolor": "white",
             "minorgridcolor": "white",
             "startlinecolor": "#2a3f5f"
            },
            "type": "carpet"
           }
          ],
          "choropleth": [
           {
            "colorbar": {
             "outlinewidth": 0,
             "ticks": ""
            },
            "type": "choropleth"
           }
          ],
          "contour": [
           {
            "colorbar": {
             "outlinewidth": 0,
             "ticks": ""
            },
            "colorscale": [
             [
              0,
              "#0d0887"
             ],
             [
              0.1111111111111111,
              "#46039f"
             ],
             [
              0.2222222222222222,
              "#7201a8"
             ],
             [
              0.3333333333333333,
              "#9c179e"
             ],
             [
              0.4444444444444444,
              "#bd3786"
             ],
             [
              0.5555555555555556,
              "#d8576b"
             ],
             [
              0.6666666666666666,
              "#ed7953"
             ],
             [
              0.7777777777777778,
              "#fb9f3a"
             ],
             [
              0.8888888888888888,
              "#fdca26"
             ],
             [
              1,
              "#f0f921"
             ]
            ],
            "type": "contour"
           }
          ],
          "contourcarpet": [
           {
            "colorbar": {
             "outlinewidth": 0,
             "ticks": ""
            },
            "type": "contourcarpet"
           }
          ],
          "heatmap": [
           {
            "colorbar": {
             "outlinewidth": 0,
             "ticks": ""
            },
            "colorscale": [
             [
              0,
              "#0d0887"
             ],
             [
              0.1111111111111111,
              "#46039f"
             ],
             [
              0.2222222222222222,
              "#7201a8"
             ],
             [
              0.3333333333333333,
              "#9c179e"
             ],
             [
              0.4444444444444444,
              "#bd3786"
             ],
             [
              0.5555555555555556,
              "#d8576b"
             ],
             [
              0.6666666666666666,
              "#ed7953"
             ],
             [
              0.7777777777777778,
              "#fb9f3a"
             ],
             [
              0.8888888888888888,
              "#fdca26"
             ],
             [
              1,
              "#f0f921"
             ]
            ],
            "type": "heatmap"
           }
          ],
          "heatmapgl": [
           {
            "colorbar": {
             "outlinewidth": 0,
             "ticks": ""
            },
            "colorscale": [
             [
              0,
              "#0d0887"
             ],
             [
              0.1111111111111111,
              "#46039f"
             ],
             [
              0.2222222222222222,
              "#7201a8"
             ],
             [
              0.3333333333333333,
              "#9c179e"
             ],
             [
              0.4444444444444444,
              "#bd3786"
             ],
             [
              0.5555555555555556,
              "#d8576b"
             ],
             [
              0.6666666666666666,
              "#ed7953"
             ],
             [
              0.7777777777777778,
              "#fb9f3a"
             ],
             [
              0.8888888888888888,
              "#fdca26"
             ],
             [
              1,
              "#f0f921"
             ]
            ],
            "type": "heatmapgl"
           }
          ],
          "histogram": [
           {
            "marker": {
             "pattern": {
              "fillmode": "overlay",
              "size": 10,
              "solidity": 0.2
             }
            },
            "type": "histogram"
           }
          ],
          "histogram2d": [
           {
            "colorbar": {
             "outlinewidth": 0,
             "ticks": ""
            },
            "colorscale": [
             [
              0,
              "#0d0887"
             ],
             [
              0.1111111111111111,
              "#46039f"
             ],
             [
              0.2222222222222222,
              "#7201a8"
             ],
             [
              0.3333333333333333,
              "#9c179e"
             ],
             [
              0.4444444444444444,
              "#bd3786"
             ],
             [
              0.5555555555555556,
              "#d8576b"
             ],
             [
              0.6666666666666666,
              "#ed7953"
             ],
             [
              0.7777777777777778,
              "#fb9f3a"
             ],
             [
              0.8888888888888888,
              "#fdca26"
             ],
             [
              1,
              "#f0f921"
             ]
            ],
            "type": "histogram2d"
           }
          ],
          "histogram2dcontour": [
           {
            "colorbar": {
             "outlinewidth": 0,
             "ticks": ""
            },
            "colorscale": [
             [
              0,
              "#0d0887"
             ],
             [
              0.1111111111111111,
              "#46039f"
             ],
             [
              0.2222222222222222,
              "#7201a8"
             ],
             [
              0.3333333333333333,
              "#9c179e"
             ],
             [
              0.4444444444444444,
              "#bd3786"
             ],
             [
              0.5555555555555556,
              "#d8576b"
             ],
             [
              0.6666666666666666,
              "#ed7953"
             ],
             [
              0.7777777777777778,
              "#fb9f3a"
             ],
             [
              0.8888888888888888,
              "#fdca26"
             ],
             [
              1,
              "#f0f921"
             ]
            ],
            "type": "histogram2dcontour"
           }
          ],
          "mesh3d": [
           {
            "colorbar": {
             "outlinewidth": 0,
             "ticks": ""
            },
            "type": "mesh3d"
           }
          ],
          "parcoords": [
           {
            "line": {
             "colorbar": {
              "outlinewidth": 0,
              "ticks": ""
             }
            },
            "type": "parcoords"
           }
          ],
          "pie": [
           {
            "automargin": true,
            "type": "pie"
           }
          ],
          "scatter": [
           {
            "marker": {
             "colorbar": {
              "outlinewidth": 0,
              "ticks": ""
             }
            },
            "type": "scatter"
           }
          ],
          "scatter3d": [
           {
            "line": {
             "colorbar": {
              "outlinewidth": 0,
              "ticks": ""
             }
            },
            "marker": {
             "colorbar": {
              "outlinewidth": 0,
              "ticks": ""
             }
            },
            "type": "scatter3d"
           }
          ],
          "scattercarpet": [
           {
            "marker": {
             "colorbar": {
              "outlinewidth": 0,
              "ticks": ""
             }
            },
            "type": "scattercarpet"
           }
          ],
          "scattergeo": [
           {
            "marker": {
             "colorbar": {
              "outlinewidth": 0,
              "ticks": ""
             }
            },
            "type": "scattergeo"
           }
          ],
          "scattergl": [
           {
            "marker": {
             "colorbar": {
              "outlinewidth": 0,
              "ticks": ""
             }
            },
            "type": "scattergl"
           }
          ],
          "scattermapbox": [
           {
            "marker": {
             "colorbar": {
              "outlinewidth": 0,
              "ticks": ""
             }
            },
            "type": "scattermapbox"
           }
          ],
          "scatterpolar": [
           {
            "marker": {
             "colorbar": {
              "outlinewidth": 0,
              "ticks": ""
             }
            },
            "type": "scatterpolar"
           }
          ],
          "scatterpolargl": [
           {
            "marker": {
             "colorbar": {
              "outlinewidth": 0,
              "ticks": ""
             }
            },
            "type": "scatterpolargl"
           }
          ],
          "scatterternary": [
           {
            "marker": {
             "colorbar": {
              "outlinewidth": 0,
              "ticks": ""
             }
            },
            "type": "scatterternary"
           }
          ],
          "surface": [
           {
            "colorbar": {
             "outlinewidth": 0,
             "ticks": ""
            },
            "colorscale": [
             [
              0,
              "#0d0887"
             ],
             [
              0.1111111111111111,
              "#46039f"
             ],
             [
              0.2222222222222222,
              "#7201a8"
             ],
             [
              0.3333333333333333,
              "#9c179e"
             ],
             [
              0.4444444444444444,
              "#bd3786"
             ],
             [
              0.5555555555555556,
              "#d8576b"
             ],
             [
              0.6666666666666666,
              "#ed7953"
             ],
             [
              0.7777777777777778,
              "#fb9f3a"
             ],
             [
              0.8888888888888888,
              "#fdca26"
             ],
             [
              1,
              "#f0f921"
             ]
            ],
            "type": "surface"
           }
          ],
          "table": [
           {
            "cells": {
             "fill": {
              "color": "#EBF0F8"
             },
             "line": {
              "color": "white"
             }
            },
            "header": {
             "fill": {
              "color": "#C8D4E3"
             },
             "line": {
              "color": "white"
             }
            },
            "type": "table"
           }
          ]
         },
         "layout": {
          "annotationdefaults": {
           "arrowcolor": "#2a3f5f",
           "arrowhead": 0,
           "arrowwidth": 1
          },
          "autotypenumbers": "strict",
          "coloraxis": {
           "colorbar": {
            "outlinewidth": 0,
            "ticks": ""
           }
          },
          "colorscale": {
           "diverging": [
            [
             0,
             "#8e0152"
            ],
            [
             0.1,
             "#c51b7d"
            ],
            [
             0.2,
             "#de77ae"
            ],
            [
             0.3,
             "#f1b6da"
            ],
            [
             0.4,
             "#fde0ef"
            ],
            [
             0.5,
             "#f7f7f7"
            ],
            [
             0.6,
             "#e6f5d0"
            ],
            [
             0.7,
             "#b8e186"
            ],
            [
             0.8,
             "#7fbc41"
            ],
            [
             0.9,
             "#4d9221"
            ],
            [
             1,
             "#276419"
            ]
           ],
           "sequential": [
            [
             0,
             "#0d0887"
            ],
            [
             0.1111111111111111,
             "#46039f"
            ],
            [
             0.2222222222222222,
             "#7201a8"
            ],
            [
             0.3333333333333333,
             "#9c179e"
            ],
            [
             0.4444444444444444,
             "#bd3786"
            ],
            [
             0.5555555555555556,
             "#d8576b"
            ],
            [
             0.6666666666666666,
             "#ed7953"
            ],
            [
             0.7777777777777778,
             "#fb9f3a"
            ],
            [
             0.8888888888888888,
             "#fdca26"
            ],
            [
             1,
             "#f0f921"
            ]
           ],
           "sequentialminus": [
            [
             0,
             "#0d0887"
            ],
            [
             0.1111111111111111,
             "#46039f"
            ],
            [
             0.2222222222222222,
             "#7201a8"
            ],
            [
             0.3333333333333333,
             "#9c179e"
            ],
            [
             0.4444444444444444,
             "#bd3786"
            ],
            [
             0.5555555555555556,
             "#d8576b"
            ],
            [
             0.6666666666666666,
             "#ed7953"
            ],
            [
             0.7777777777777778,
             "#fb9f3a"
            ],
            [
             0.8888888888888888,
             "#fdca26"
            ],
            [
             1,
             "#f0f921"
            ]
           ]
          },
          "colorway": [
           "#636efa",
           "#EF553B",
           "#00cc96",
           "#ab63fa",
           "#FFA15A",
           "#19d3f3",
           "#FF6692",
           "#B6E880",
           "#FF97FF",
           "#FECB52"
          ],
          "font": {
           "color": "#2a3f5f"
          },
          "geo": {
           "bgcolor": "white",
           "lakecolor": "white",
           "landcolor": "#E5ECF6",
           "showlakes": true,
           "showland": true,
           "subunitcolor": "white"
          },
          "hoverlabel": {
           "align": "left"
          },
          "hovermode": "closest",
          "mapbox": {
           "style": "light"
          },
          "paper_bgcolor": "white",
          "plot_bgcolor": "#E5ECF6",
          "polar": {
           "angularaxis": {
            "gridcolor": "white",
            "linecolor": "white",
            "ticks": ""
           },
           "bgcolor": "#E5ECF6",
           "radialaxis": {
            "gridcolor": "white",
            "linecolor": "white",
            "ticks": ""
           }
          },
          "scene": {
           "xaxis": {
            "backgroundcolor": "#E5ECF6",
            "gridcolor": "white",
            "gridwidth": 2,
            "linecolor": "white",
            "showbackground": true,
            "ticks": "",
            "zerolinecolor": "white"
           },
           "yaxis": {
            "backgroundcolor": "#E5ECF6",
            "gridcolor": "white",
            "gridwidth": 2,
            "linecolor": "white",
            "showbackground": true,
            "ticks": "",
            "zerolinecolor": "white"
           },
           "zaxis": {
            "backgroundcolor": "#E5ECF6",
            "gridcolor": "white",
            "gridwidth": 2,
            "linecolor": "white",
            "showbackground": true,
            "ticks": "",
            "zerolinecolor": "white"
           }
          },
          "shapedefaults": {
           "line": {
            "color": "#2a3f5f"
           }
          },
          "ternary": {
           "aaxis": {
            "gridcolor": "white",
            "linecolor": "white",
            "ticks": ""
           },
           "baxis": {
            "gridcolor": "white",
            "linecolor": "white",
            "ticks": ""
           },
           "bgcolor": "#E5ECF6",
           "caxis": {
            "gridcolor": "white",
            "linecolor": "white",
            "ticks": ""
           }
          },
          "title": {
           "x": 0.05
          },
          "xaxis": {
           "automargin": true,
           "gridcolor": "white",
           "linecolor": "white",
           "ticks": "",
           "title": {
            "standoff": 15
           },
           "zerolinecolor": "white",
           "zerolinewidth": 2
          },
          "yaxis": {
           "automargin": true,
           "gridcolor": "white",
           "linecolor": "white",
           "ticks": "",
           "title": {
            "standoff": 15
           },
           "zerolinecolor": "white",
           "zerolinewidth": 2
          }
         }
        },
        "title": {
         "text": "<b>ECTS-Punkte nach besuchtem Semester im Studienverlauf</b>"
        },
        "xaxis": {
         "anchor": "y",
         "domain": [
          0,
          1
         ],
         "dtick": 1,
         "title": {
          "text": "besuchtes Semester"
         }
        },
        "yaxis": {
         "anchor": "x",
         "domain": [
          0,
          1
         ],
         "range": [
          0,
          25
         ],
         "title": {
          "text": "ECTS-Punkte"
         }
        }
       }
      }
     },
     "metadata": {},
     "output_type": "display_data"
    }
   ],
   "source": [
    "max_semester = 6\n",
    "chosen_measure = \"mean\"\n",
    "name_of_study = \"BA; PPP\"\n",
    "\n",
    "dff = df[df[\"besuchtesSemester\"] <= max_semester]\n",
    "dff = dff[dff[\"STUDBEZ_kompakt\"] == name_of_study]\n",
    "\n",
    "# plot\n",
    "fig = px.line(dff, \n",
    "                x=\"besuchtesSemester\", \n",
    "                y=chosen_measure, \n",
    "                #color=\"STUDBEZ_kompakt\", \n",
    "                title=\"<b>ECTS-Punkte nach besuchtem Semester im Studienverlauf</b>\", \n",
    "                labels=dict(besuchtesSemester=\"besuchtes Semester\", \n",
    "                            mean = \"ECTS-Punkte\"),\n",
    "                markers=True)\n",
    "# remove decimals from x axis\n",
    "fig.update_xaxes(dtick=1)\n",
    "# add anotations and hide legend\n",
    "fig.update_layout(showlegend=False, \n",
    "                yaxis_range=[0,25])"
   ]
  },
  {
   "cell_type": "code",
   "execution_count": null,
   "metadata": {},
   "outputs": [],
   "source": [
    "#connecting graph with components\n",
    "@app.callback(\n",
    "    Output(component_id=\"mygraph1\", component_property=\"figure\"),\n",
    "    Input(component_id=\"slct_study\", component_property=\"value\"),\n",
    "    Input(\"measure\", \"value\"), \n",
    "    Input(\"max_semester_slider\", \"value\"),\n",
    "    prevent_initial_call=True\n",
    "    )\n",
    "    \n",
    "def update_graph(name_of_study, chosen_measure, max_semester):\n",
    "\n",
    "    dff = df[df[\"besuchtesSemester\"] <= max_semester]\n",
    "    dff = dff[dff[\"STUDBEZ_kompakt\"] == name_of_study]\n",
    "\n",
    "    # plot\n",
    "    fig = px.line(dff, \n",
    "                    x=\"besuchtesSemester\", \n",
    "                    y=chosen_measure, \n",
    "                    #color=\"STUDBEZ_kompakt\", \n",
    "                    title=\"<b>ECTS-Punkte nach besuchtem Semester im Studienverlauf</b>\", \n",
    "                    labels=dict(besuchtesSemester=\"besuchtes Semester\", \n",
    "                                mean = \"ECTS-Punkte\"),\n",
    "                    markers=True)\n",
    "    # remove decimals from x axis\n",
    "    fig.update_xaxes(dtick=1)\n",
    "    # add anotations and hide legend\n",
    "    fig.update_layout(showlegend=False, \n",
    "                    yaxis_range=[0,25])\n",
    "                \n",
    "    return fig"
   ]
  },
  {
   "cell_type": "code",
   "execution_count": null,
   "metadata": {},
   "outputs": [
    {
     "name": "stdout",
     "output_type": "stream",
     "text": [
      "Dash is running on http://127.0.0.1:8050/\n",
      "\n",
      "Dash is running on http://127.0.0.1:8050/\n",
      "\n",
      "Dash is running on http://127.0.0.1:8050/\n",
      "\n",
      "Dash is running on http://127.0.0.1:8050/\n",
      "\n",
      "Dash is running on http://127.0.0.1:8050/\n",
      "\n",
      "Dash is running on http://127.0.0.1:8050/\n",
      "\n",
      " * Serving Flask app \"__main__\" (lazy loading)\n",
      " * Environment: production\n",
      "   WARNING: This is a development server. Do not use it in a production deployment.\n",
      "   Use a production WSGI server instead.\n",
      " * Debug mode: on\n"
     ]
    }
   ],
   "source": [
    "if __name__ == '__main__':\n",
    "    app.run_server(debug=True, use_reloader=False)"
   ]
  },
  {
   "cell_type": "code",
   "execution_count": 94,
   "metadata": {},
   "outputs": [],
   "source": [
    "def create_lineplot_annotations_y(dataframe, \n",
    "                                    max_sem_in_plot,\n",
    "                                    y_variable=\"mean\", \n",
    "                                    group_variable=\"STUDBEZ_kompakt\"):\n",
    "\n",
    "    \"\"\"\n",
    "    This function creates y labels based on 'gorup_variable' for a line plot. \n",
    "    The labels are positioned at the height of the right-most y value.\n",
    "    \"\"\"\n",
    "    y_heights = dataframe.loc[dataframe[\"besuchtesSemester\"]==\\\n",
    "        max_sem_in_plot][[y_variable, group_variable]]\n",
    "    y_heights = y_heights.sort_values(by=\"mean\", ascending=False)\n",
    "    y_heights_mean = list(y_heights[y_variable])\n",
    "    y_heights_labs = list(y_heights[group_variable])\n",
    "\n",
    "    ants = []\n",
    "\n",
    "    for i in range(0,len(y_heights_labs)):\n",
    "        ants.append(dict(xref='paper', \n",
    "                        x=1, \n",
    "                        y=round(y_heights_mean[i]),\n",
    "                        xanchor='left', yanchor='middle',\n",
    "                        text=y_heights_labs[i],\n",
    "                        font={\"family\": \"Arial\", \n",
    "                        \"size\": 12},\n",
    "                        showarrow=False))\n",
    "    return(ants) # list of annotation dicts"
   ]
  },
  {
   "cell_type": "markdown",
   "metadata": {},
   "source": [
    "# WORKS"
   ]
  },
  {
   "cell_type": "code",
   "execution_count": 101,
   "metadata": {},
   "outputs": [
    {
     "name": "stdout",
     "output_type": "stream",
     "text": [
      "Dash is running on http://127.0.0.1:8050/\n",
      "\n",
      "Dash is running on http://127.0.0.1:8050/\n",
      "\n",
      "Dash is running on http://127.0.0.1:8050/\n",
      "\n",
      "Dash is running on http://127.0.0.1:8050/\n",
      "\n",
      "Dash is running on http://127.0.0.1:8050/\n",
      "\n",
      "Dash is running on http://127.0.0.1:8050/\n",
      "\n",
      "Dash is running on http://127.0.0.1:8050/\n",
      "\n",
      "Dash is running on http://127.0.0.1:8050/\n",
      "\n",
      "Dash is running on http://127.0.0.1:8050/\n",
      "\n",
      "Dash is running on http://127.0.0.1:8050/\n",
      "\n",
      "Dash is running on http://127.0.0.1:8050/\n",
      "\n",
      "Dash is running on http://127.0.0.1:8050/\n",
      "\n",
      "Dash is running on http://127.0.0.1:8050/\n",
      "\n",
      "Dash is running on http://127.0.0.1:8050/\n",
      "\n",
      "Dash is running on http://127.0.0.1:8050/\n",
      "\n",
      "Dash is running on http://127.0.0.1:8050/\n",
      "\n",
      "Dash is running on http://127.0.0.1:8050/\n",
      "\n",
      "Dash is running on http://127.0.0.1:8050/\n",
      "\n",
      "Dash is running on http://127.0.0.1:8050/\n",
      "\n",
      "Dash is running on http://127.0.0.1:8050/\n",
      "\n",
      "Dash is running on http://127.0.0.1:8050/\n",
      "\n",
      "Dash is running on http://127.0.0.1:8050/\n",
      "\n",
      "Dash is running on http://127.0.0.1:8050/\n",
      "\n",
      "Dash is running on http://127.0.0.1:8050/\n",
      "\n",
      "Dash is running on http://127.0.0.1:8050/\n",
      "\n",
      "Dash is running on http://127.0.0.1:8050/\n",
      "\n",
      "Dash is running on http://127.0.0.1:8050/\n",
      "\n",
      "Dash is running on http://127.0.0.1:8050/\n",
      "\n",
      "Dash is running on http://127.0.0.1:8050/\n",
      "\n",
      "Dash is running on http://127.0.0.1:8050/\n",
      "\n",
      "Dash is running on http://127.0.0.1:8050/\n",
      "\n",
      "Dash is running on http://127.0.0.1:8050/\n",
      "\n",
      "Dash is running on http://127.0.0.1:8050/\n",
      "\n",
      "Dash is running on http://127.0.0.1:8050/\n",
      "\n",
      "Dash is running on http://127.0.0.1:8050/\n",
      "\n",
      " * Serving Flask app \"__main__\" (lazy loading)\n",
      " * Environment: production\n",
      "   WARNING: This is a development server. Do not use it in a production deployment.\n",
      "   Use a production WSGI server instead.\n",
      " * Debug mode: on\n"
     ]
    }
   ],
   "source": [
    "## ----------------------- WORKS!! -----------------------\n",
    "\n",
    "app = Dash(__name__)\n",
    "\n",
    "df = df_by_semester_and_study_agg.copy()\n",
    "\n",
    "available_indicators = df[\"STUDBEZ_kompakt\"].unique()\n",
    "\n",
    "\n",
    "## ----------------------- LAYOUT -----------------------\n",
    "\n",
    "app.layout = html.Div([\n",
    "\n",
    "    html.H1(\"Web Application Dashboards with Dash\", style={'text-align': 'center'}),\n",
    "\n",
    "    dcc.Dropdown(id=\"slct_study\",\n",
    "                options=[\n",
    "                        {\"label\": i, \"value\": i} for i in available_indicators],\n",
    "                #  options=[\n",
    "                #      {\"label\": \"BA; PPP\", \"value\": \"BA; PPP\"},\n",
    "                #      {\"label\": \"MA; PPP\", \"value\": \"MA; PPP\"},\n",
    "                #      {\"label\": \"BA; BI\", \"value\": \"BA; BI\"},\n",
    "                #      {\"label\": \"MA; BI\", \"value\": \"MA; BI\"}],\n",
    "                 multi=False,\n",
    "                 value=\"BA; PPP\",\n",
    "                 style={'width': \"40%\"}\n",
    "    ),\n",
    "    html.Br(),\n",
    "    dcc.RadioItems(\n",
    "                    id='measure', # was xaxis-type\n",
    "                    options=[{'label': i, 'value': i} for i in ['mean', 'median']],\n",
    "                    value='mean',\n",
    "                    labelStyle={'display': 'inline-block'}, \n",
    "                    style={'width': '40%'}),\n",
    "    html.Div(id=\"output_container\", children=[]),\n",
    "    html.Br(),\n",
    "    html.Label(\"Chose maximum semesters to be displayed\"),\n",
    "\n",
    "    dcc.Slider(\n",
    "                id='max_semester_slider', # was year--slider\n",
    "                min=df['besuchtesSemester'].min(),\n",
    "                max=df['besuchtesSemester'].max(),\n",
    "                value=df['besuchtesSemester'].max(),\n",
    "                marks={i: str(i) for i in range(1, 9)},\n",
    "                step=None\n",
    "    ),\n",
    "\n",
    "    dcc.Graph(id=\"bof\", figure={}),\n",
    "    dcc.Graph(id=\"biff\", figure={}),\n",
    "\n",
    "])\n",
    "\n",
    "\n",
    "## ----------------------- CALLBACK -----------------------\n",
    "\n",
    "@app.callback(\n",
    "    [Output(component_id=\"output_container\", component_property=\"children\"),\n",
    "     Output(component_id=\"bof\", component_property=\"figure\"),\n",
    "     Output(\"biff\", \"figure\")],\n",
    "    [Input(component_id=\"slct_study\", component_property=\"value\"),\n",
    "     Input(\"measure\", \"value\"), \n",
    "     Input(\"max_semester_slider\", \"value\")]\n",
    "    )\n",
    "def update_graph(selected_study, selected_measure, max_sem):\n",
    "\n",
    "    container = \"The field of study chosen by user was: {}\".format(selected_study)\n",
    "    \n",
    "    #selected_measure = selected_measure\n",
    "\n",
    "    dff = df_by_semester_and_study_agg.copy()\n",
    "    dff = dff[dff[\"besuchtesSemester\"] <= max_sem]\n",
    "\n",
    "    # plot\n",
    "    fig1 = px.line(dff[dff[\"STUDBEZ_kompakt\"] == selected_study], \n",
    "                    x=\"besuchtesSemester\", \n",
    "                    y=selected_measure, \n",
    "                    color=\"STUDBEZ_kompakt\", \n",
    "                    title=\"<b>ECTS-Punkte nach besuchtem Semester im Studienverlauf</b>\",\n",
    "                    markers=True)\n",
    "    # remove decimals from x axis\n",
    "    fig1.update_xaxes(dtick=1)\n",
    "    # add anotations and hide legend\n",
    "    fig1.update_layout(showlegend=False, \n",
    "                    yaxis_range=[0,25])\n",
    "    \n",
    "    antsis = create_lineplot_annotations_y(dataframe=dff, \n",
    "                                            max_sem_in_plot = max_sem, \n",
    "                                            y_variable=selected_measure, \n",
    "                                            group_variable=\"STUDBEZ_kompakt\")\n",
    "\n",
    "    fig2 = px.line(dff, \n",
    "                    x=\"besuchtesSemester\", \n",
    "                    y=selected_measure, \n",
    "                    color=\"STUDBEZ_kompakt\", \n",
    "                    title=\"<b>ECTS-Punkte nach besuchtem Semester im Studienverlauf</b>\",\n",
    "                    markers=True)\n",
    "    fig2.update_xaxes(dtick=1)\n",
    "    # add anotations and hide legend\n",
    "    fig2.update_layout(annotations=antsis, \n",
    "                    showlegend=False,     \n",
    "                    yaxis_range=[0,25])\n",
    "\n",
    "    return container, fig1, fig2\n",
    "\n",
    "\n",
    "## ------------------------- RUN -------------------------\n",
    "\n",
    "if __name__ == '__main__':\n",
    "    app.run_server(debug=True, use_reloader=False)"
   ]
  },
  {
   "cell_type": "code",
   "execution_count": 97,
   "metadata": {},
   "outputs": [
    {
     "name": "stdout",
     "output_type": "stream",
     "text": [
      "Dash is running on http://127.0.0.1:8050/\n",
      "\n",
      "Dash is running on http://127.0.0.1:8050/\n",
      "\n",
      "Dash is running on http://127.0.0.1:8050/\n",
      "\n",
      "Dash is running on http://127.0.0.1:8050/\n",
      "\n",
      "Dash is running on http://127.0.0.1:8050/\n",
      "\n",
      "Dash is running on http://127.0.0.1:8050/\n",
      "\n",
      "Dash is running on http://127.0.0.1:8050/\n",
      "\n",
      "Dash is running on http://127.0.0.1:8050/\n",
      "\n",
      "Dash is running on http://127.0.0.1:8050/\n",
      "\n",
      "Dash is running on http://127.0.0.1:8050/\n",
      "\n",
      "Dash is running on http://127.0.0.1:8050/\n",
      "\n",
      "Dash is running on http://127.0.0.1:8050/\n",
      "\n",
      "Dash is running on http://127.0.0.1:8050/\n",
      "\n",
      "Dash is running on http://127.0.0.1:8050/\n",
      "\n",
      "Dash is running on http://127.0.0.1:8050/\n",
      "\n",
      "Dash is running on http://127.0.0.1:8050/\n",
      "\n",
      "Dash is running on http://127.0.0.1:8050/\n",
      "\n",
      "Dash is running on http://127.0.0.1:8050/\n",
      "\n",
      "Dash is running on http://127.0.0.1:8050/\n",
      "\n",
      "Dash is running on http://127.0.0.1:8050/\n",
      "\n",
      "Dash is running on http://127.0.0.1:8050/\n",
      "\n",
      "Dash is running on http://127.0.0.1:8050/\n",
      "\n",
      "Dash is running on http://127.0.0.1:8050/\n",
      "\n",
      "Dash is running on http://127.0.0.1:8050/\n",
      "\n",
      "Dash is running on http://127.0.0.1:8050/\n",
      "\n",
      "Dash is running on http://127.0.0.1:8050/\n",
      "\n",
      "Dash is running on http://127.0.0.1:8050/\n",
      "\n",
      "Dash is running on http://127.0.0.1:8050/\n",
      "\n",
      "Dash is running on http://127.0.0.1:8050/\n",
      "\n",
      "Dash is running on http://127.0.0.1:8050/\n",
      "\n",
      "Dash is running on http://127.0.0.1:8050/\n",
      "\n",
      " * Serving Flask app \"__main__\" (lazy loading)\n",
      " * Environment: production\n",
      "   WARNING: This is a development server. Do not use it in a production deployment.\n",
      "   Use a production WSGI server instead.\n",
      " * Debug mode: on\n"
     ]
    }
   ],
   "source": [
    "## ----------------------- WORKING -----------------------\n",
    "app = Dash(__name__)\n",
    "\n",
    "# ------------------------------------------------------------------------------\n",
    "# App layout\n",
    "app.layout = html.Div([\n",
    "\n",
    "    html.H1(\"Web Application Dashboards with Dash\", style={'text-align': 'center'}),\n",
    "\n",
    "    dcc.Dropdown(id=\"slct_study\",\n",
    "                 options=[\n",
    "                     {\"label\": \"BA; PPP\", \"value\": \"BA; PPP\"},\n",
    "                     {\"label\": \"MA; PPP\", \"value\": \"MA; PPP\"},\n",
    "                     {\"label\": \"BA; BI\", \"value\": \"BA; BI\"},\n",
    "                     {\"label\": \"MA; BI\", \"value\": \"MA; BI\"}],\n",
    "                 multi=False,\n",
    "                 value=\"BA; PPP\",\n",
    "                 style={'width': \"40%\"}\n",
    "    ),\n",
    "    html.Br(),\n",
    "    dcc.RadioItems(\n",
    "                    id='measure', # was xaxis-type\n",
    "                    options=[{'label': i, 'value': i} for i in ['mean', 'median']],\n",
    "                    value='mean',\n",
    "                    labelStyle={'display': 'inline-block'}, \n",
    "                    style={'width': '40%'}),\n",
    "    html.Div(id=\"output_container\", children=[]),\n",
    "    html.Br(),\n",
    "    html.Label(\"Chose maximum semesters to be displayed\"),\n",
    "\n",
    "    dcc.Slider(\n",
    "                id='max_semester_slider', # was year--slider\n",
    "                min=df['besuchtesSemester'].min(),\n",
    "                max=df['besuchtesSemester'].max(),\n",
    "                value=df['besuchtesSemester'].max(),\n",
    "                marks={i: str(i) for i in range(1, 9)},\n",
    "                step=None\n",
    "    ),\n",
    "\n",
    "    dcc.Graph(id=\"bof\", figure={}),\n",
    "\n",
    "])\n",
    "\n",
    "# ------------------------------------------------------------------------------\n",
    "# Connect the Plotly graphs with Dash Components\n",
    "@app.callback(\n",
    "    [Output(component_id=\"output_container\", component_property=\"children\"),\n",
    "     Output(component_id=\"bof\", component_property=\"figure\")],\n",
    "    [Input(component_id=\"slct_study\", component_property=\"value\"),\n",
    "     Input(\"measure\", \"value\"), \n",
    "     Input(\"max_semester_slider\", \"value\")]\n",
    "    )\n",
    "def update_graph(selected_study, selected_measure, max_sem):\n",
    "\n",
    "    container = \"The field of study chosen by user was: {}\".format(selected_study)\n",
    "\n",
    "    dff = df_by_semester_and_study_agg.copy()\n",
    "    dff = dff[dff[\"STUDBEZ_kompakt\"] == selected_study]\n",
    "    dff = dff[dff[\"besuchtesSemester\"] <= max_sem]\n",
    "\n",
    "    # plot\n",
    "    fig = px.line(dff, \n",
    "                    x=\"besuchtesSemester\", \n",
    "                    y=selected_measure, \n",
    "                    color=\"STUDBEZ_kompakt\", \n",
    "                    title=\"<b>ECTS-Punkte nach besuchtem Semester im Studienverlauf</b>\",\n",
    "                    markers=True)\n",
    "    # remove decimals from x axis\n",
    "    fig.update_xaxes(dtick=1)\n",
    "    # add anotations and hide legend\n",
    "    fig.update_layout(showlegend=False, \n",
    "                    yaxis_range=[0,25])\n",
    "                \n",
    "    return container, fig\n",
    "\n",
    "\n",
    "if __name__ == '__main__':\n",
    "    app.run_server(debug=True, use_reloader=False)"
   ]
  },
  {
   "cell_type": "code",
   "execution_count": 85,
   "metadata": {},
   "outputs": [
    {
     "name": "stdout",
     "output_type": "stream",
     "text": [
      "Dash is running on http://127.0.0.1:8050/\n",
      "\n",
      "Dash is running on http://127.0.0.1:8050/\n",
      "\n",
      "Dash is running on http://127.0.0.1:8050/\n",
      "\n",
      "Dash is running on http://127.0.0.1:8050/\n",
      "\n",
      "Dash is running on http://127.0.0.1:8050/\n",
      "\n",
      "Dash is running on http://127.0.0.1:8050/\n",
      "\n",
      "Dash is running on http://127.0.0.1:8050/\n",
      "\n",
      "Dash is running on http://127.0.0.1:8050/\n",
      "\n",
      "Dash is running on http://127.0.0.1:8050/\n",
      "\n",
      "Dash is running on http://127.0.0.1:8050/\n",
      "\n",
      "Dash is running on http://127.0.0.1:8050/\n",
      "\n",
      "Dash is running on http://127.0.0.1:8050/\n",
      "\n",
      "Dash is running on http://127.0.0.1:8050/\n",
      "\n",
      "Dash is running on http://127.0.0.1:8050/\n",
      "\n",
      "Dash is running on http://127.0.0.1:8050/\n",
      "\n",
      "Dash is running on http://127.0.0.1:8050/\n",
      "\n",
      "Dash is running on http://127.0.0.1:8050/\n",
      "\n",
      "Dash is running on http://127.0.0.1:8050/\n",
      "\n",
      "Dash is running on http://127.0.0.1:8050/\n",
      "\n",
      "Dash is running on http://127.0.0.1:8050/\n",
      "\n",
      "Dash is running on http://127.0.0.1:8050/\n",
      "\n",
      "Dash is running on http://127.0.0.1:8050/\n",
      "\n",
      "Dash is running on http://127.0.0.1:8050/\n",
      "\n",
      "Dash is running on http://127.0.0.1:8050/\n",
      "\n",
      " * Serving Flask app \"__main__\" (lazy loading)\n",
      " * Environment: production\n",
      "   WARNING: This is a development server. Do not use it in a production deployment.\n",
      "   Use a production WSGI server instead.\n",
      " * Debug mode: on\n"
     ]
    }
   ],
   "source": [
    "## ----------------------- WORKING -----------------------\n",
    "max_semesters_to_display = 4\n",
    "\n",
    "app = Dash(__name__)\n",
    "\n",
    "# ------------------------------------------------------------------------------\n",
    "# App layout\n",
    "app.layout = html.Div([\n",
    "\n",
    "    html.H1(\"Web Application Dashboards with Dash\", style={'text-align': 'center'}),\n",
    "\n",
    "    dcc.Dropdown(id=\"slct_study\",\n",
    "                 options=[\n",
    "                     {\"label\": \"BA; PPP\", \"value\": \"BA; PPP\"},\n",
    "                     {\"label\": \"MA; PPP\", \"value\": \"MA; PPP\"},\n",
    "                     {\"label\": \"BA; BI\", \"value\": \"BA; BI\"},\n",
    "                     {\"label\": \"MA; BI\", \"value\": \"MA; BI\"}],\n",
    "                 multi=False,\n",
    "                 value=\"BA; PPP\",\n",
    "                 style={'width': \"40%\"}\n",
    "                 ),\n",
    "    html.Br(),\n",
    "    dcc.RadioItems(\n",
    "                    id='measure', # was xaxis-type\n",
    "                    options=[{'label': i, 'value': i} for i in ['mean', 'median']],\n",
    "                    value='mean',\n",
    "                    labelStyle={'display': 'inline-block'}, \n",
    "                    style={'width': '40%'}),\n",
    "    html.Div(id=\"output_container\", children=[]),\n",
    "    html.Br(),\n",
    "\n",
    "    dcc.Graph(id=\"bof\", figure={})\n",
    "\n",
    "])\n",
    "\n",
    "# ------------------------------------------------------------------------------\n",
    "# Connect the Plotly graphs with Dash Components\n",
    "@app.callback(\n",
    "    [Output(component_id=\"output_container\", component_property=\"children\"),\n",
    "     Output(component_id=\"bof\", component_property=\"figure\")],\n",
    "    [Input(component_id=\"slct_study\", component_property=\"value\"),\n",
    "     Input(\"measure\", \"value\")]\n",
    "    )\n",
    "def update_graph(selected_study, selected_measure):\n",
    "\n",
    "    container = \"The field of study chosen by user was: {}\".format(selected_study)\n",
    "\n",
    "    dff = df_by_semester_and_study_agg.copy()\n",
    "    dff = dff[dff[\"STUDBEZ_kompakt\"] == selected_study]\n",
    "    dff = dff[dff[\"besuchtesSemester\"] <= max_semesters_to_display]\n",
    "\n",
    "    # plot\n",
    "    fig = px.line(dff, \n",
    "                    x=\"besuchtesSemester\", \n",
    "                    y=selected_measure, \n",
    "                    color=\"STUDBEZ_kompakt\", \n",
    "                    title=\"<b>ECTS-Punkte nach besuchtem Semester im Studienverlauf</b>\",\n",
    "                    markers=True)\n",
    "    # remove decimals from x axis\n",
    "    fig.update_xaxes(dtick=1)\n",
    "    # add anotations and hide legend\n",
    "    fig.update_layout(showlegend=False, \n",
    "                    yaxis_range=[0,25])\n",
    "                \n",
    "    return container, fig\n",
    "\n",
    "\n",
    "if __name__ == '__main__':\n",
    "    app.run_server(debug=True, use_reloader=False)"
   ]
  },
  {
   "cell_type": "code",
   "execution_count": 48,
   "metadata": {},
   "outputs": [
    {
     "name": "stdout",
     "output_type": "stream",
     "text": [
      "Dash is running on http://127.0.0.1:8050/\n",
      "\n",
      "Dash is running on http://127.0.0.1:8050/\n",
      "\n",
      "Dash is running on http://127.0.0.1:8050/\n",
      "\n",
      "Dash is running on http://127.0.0.1:8050/\n",
      "\n",
      "Dash is running on http://127.0.0.1:8050/\n",
      "\n",
      "Dash is running on http://127.0.0.1:8050/\n",
      "\n",
      "Dash is running on http://127.0.0.1:8050/\n",
      "\n",
      " * Serving Flask app \"__main__\" (lazy loading)\n",
      " * Environment: production\n",
      "   WARNING: This is a development server. Do not use it in a production deployment.\n",
      "   Use a production WSGI server instead.\n",
      " * Debug mode: on\n",
      "BA; PPP\n",
      "<class 'str'>\n"
     ]
    }
   ],
   "source": [
    "## ----------------------- WORKING -----------------------\n",
    "max_semesters_to_display = 4\n",
    "\n",
    "app = Dash(__name__)\n",
    "\n",
    "# ------------------------------------------------------------------------------\n",
    "# App layout\n",
    "app.layout = html.Div([\n",
    "\n",
    "    html.H1(\"Web Application Dashboards with Dash\", style={'text-align': 'center'}),\n",
    "\n",
    "    dcc.Dropdown(id=\"slct_study\",\n",
    "                 options=[\n",
    "                     {\"label\": \"BA; PPP\", \"value\": \"BA; PPP\"},\n",
    "                     {\"label\": \"MA; PPP\", \"value\": \"MA; PPP\"},\n",
    "                     {\"label\": \"BA; BI\", \"value\": \"BA; BI\"},\n",
    "                     {\"label\": \"MA; BI\", \"value\": \"MA; BI\"}],\n",
    "                 multi=False,\n",
    "                 value=\"BA; PPP\",\n",
    "                 style={'width': \"40%\"}\n",
    "                 ),\n",
    "    html.Br(),\n",
    "\n",
    "    html.Div(id=\"output_container\", children=[]),\n",
    "    html.Br(),\n",
    "\n",
    "    dcc.Graph(id=\"bof\", figure={})\n",
    "\n",
    "])\n",
    "\n",
    "\n",
    "# ------------------------------------------------------------------------------\n",
    "# Connect the Plotly graphs with Dash Components\n",
    "@app.callback(\n",
    "    [Output(component_id=\"output_container\", component_property=\"children\"),\n",
    "     Output(component_id=\"bof\", component_property=\"figure\")],\n",
    "    [Input(component_id=\"slct_study\", component_property=\"value\")]\n",
    "    )\n",
    "def update_graph(option_slctd):\n",
    "    print(option_slctd)\n",
    "    print(type(option_slctd))\n",
    "\n",
    "    container = \"The field of study chosen by user was: {}\".format(option_slctd)\n",
    "\n",
    "    dff = df_by_semester_and_study_agg.copy()\n",
    "    dff = dff[dff[\"STUDBEZ_kompakt\"] == option_slctd]\n",
    "    dff = dff[dff[\"besuchtesSemester\"] <= max_semesters_to_display]\n",
    "\n",
    "    # plot\n",
    "    fig = px.line(dff, \n",
    "                    x=\"besuchtesSemester\", \n",
    "                    y=\"mean\", \n",
    "                    color=\"STUDBEZ_kompakt\", \n",
    "                    title=\"<b>Durchschnittliche ECTS-Punkte nach besuchtem Semester im Studienverlauf</b>\", \n",
    "                    labels=dict(besuchtesSemester=\"besuchtes Semester\", \n",
    "                                mean = \"ECTS-Punkte (Durchschnitt)\"),\n",
    "                    markers=True)\n",
    "    # remove decimals from x axis\n",
    "    fig.update_xaxes(dtick=1)\n",
    "    # add anotations and hide legend\n",
    "    fig.update_layout(showlegend=False, \n",
    "                    yaxis_range=[0,25])\n",
    "                \n",
    "    return container, fig\n",
    "\n",
    "\n",
    "if __name__ == '__main__':\n",
    "    app.run_server(debug=True, use_reloader=False)"
   ]
  }
 ],
 "metadata": {
  "interpreter": {
   "hash": "1baa965d5efe3ac65b79dfc60c0d706280b1da80fedb7760faf2759126c4f253"
  },
  "kernelspec": {
   "display_name": "Python 3.8.10 64-bit",
   "name": "python3"
  },
  "language_info": {
   "codemirror_mode": {
    "name": "ipython",
    "version": 3
   },
   "file_extension": ".py",
   "mimetype": "text/x-python",
   "name": "python",
   "nbconvert_exporter": "python",
   "pygments_lexer": "ipython3",
   "version": "3.8.10"
  }
 },
 "nbformat": 4,
 "nbformat_minor": 5
}
